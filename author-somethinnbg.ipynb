{
 "cells": [
  {
   "cell_type": "code",
   "execution_count": 4,
   "id": "da9a33f1",
   "metadata": {},
   "outputs": [],
   "source": [
    "from nltk.tokenize import word_tokenize"
   ]
  },
  {
   "cell_type": "code",
   "execution_count": 1,
   "id": "bcf11265",
   "metadata": {},
   "outputs": [
    {
     "data": {
      "text/plain": [
       "'i want to have cheese sandwhich for lunch, after that i may have '"
      ]
     },
     "execution_count": 1,
     "metadata": {},
     "output_type": "execute_result"
    }
   ],
   "source": [
    "text = \"I want to have cheese sandwhich for lunch, after that I may have \"\n",
    "text.lower()"
   ]
  },
  {
   "cell_type": "code",
   "execution_count": 5,
   "id": "86c4eadd",
   "metadata": {},
   "outputs": [
    {
     "data": {
      "text/plain": [
       "['i',\n",
       " 'want',\n",
       " 'to',\n",
       " 'have',\n",
       " 'cheese',\n",
       " 'sandwhich',\n",
       " 'for',\n",
       " 'lunch',\n",
       " ',',\n",
       " 'after',\n",
       " 'that',\n",
       " 'i',\n",
       " 'may',\n",
       " 'have']"
      ]
     },
     "execution_count": 5,
     "metadata": {},
     "output_type": "execute_result"
    }
   ],
   "source": [
    "words = word_tokenize(text.lower())\n",
    "words"
   ]
  },
  {
   "cell_type": "code",
   "execution_count": 7,
   "id": "887d3616",
   "metadata": {},
   "outputs": [],
   "source": [
    "unique = len(set(words))\n",
    "total_words = len(words)"
   ]
  },
  {
   "cell_type": "code",
   "execution_count": 14,
   "id": "a5290b07",
   "metadata": {},
   "outputs": [
    {
     "name": "stdout",
     "output_type": "stream",
     "text": [
      "Unigram Probabilities:\n",
      "P(data) = 0.2222\n",
      "P(science) = 0.2222\n",
      "P(is) = 0.2222\n",
      "P(fun) = 0.1111\n",
      "P(and) = 0.1111\n",
      "P(peaceful) = 0.1111\n"
     ]
    }
   ],
   "source": [
    "from collections import Counter\n",
    "\n",
    "text = \"Data Science is fun and data science is peaceful\"\n",
    "tokens = text.lower().split()\n",
    "word_counts = Counter(tokens)\n",
    "\n",
    "total_words = sum(word_counts.values())\n",
    "\n",
    "unigram_probabilities = {word: count / total_words for word, count in word_counts.items()}\n",
    "\n",
    "print(\"Unigram Probabilities:\")\n",
    "for word, prob in unigram_probabilities.items():\n",
    "    print(f\"P({word}) = {prob:.4f}\")\n"
   ]
  },
  {
   "cell_type": "code",
   "execution_count": 16,
   "id": "52e99fbb",
   "metadata": {},
   "outputs": [
    {
     "name": "stdout",
     "output_type": "stream",
     "text": [
      "Bigram Probabilities:\n",
      "P(love|i) = 1.0000\n",
      "P(nlp|love) = 0.5000\n",
      "P(and|nlp) = 1.0000\n",
      "P(i|and) = 1.0000\n",
      "P(python|love) = 0.5000\n"
     ]
    }
   ],
   "source": [
    "from collections import Counter\n",
    "\n",
    "text = \"I love NLP and I love Python\"\n",
    "tokens = text.lower().split()\n",
    "\n",
    "bigrams = [(tokens[i], tokens[i+1]) for i in range(len(tokens)-1)]\n",
    "bigram_counts = Counter(bigrams)\n",
    "unigram_counts = Counter(tokens)\n",
    "\n",
    "bigram_probabilities = {\n",
    "    (w1, w2): count / unigram_counts[w1]\n",
    "    for (w1, w2), count in bigram_counts.items()\n",
    "}\n",
    "\n",
    "print(\"Bigram Probabilities:\")\n",
    "for (w1, w2), prob in bigram_probabilities.items():\n",
    "    print(f\"P({w2}|{w1}) = {prob:.4f}\")\n"
   ]
  }
 ],
 "metadata": {
  "kernelspec": {
   "display_name": "Python 3",
   "language": "python",
   "name": "python3"
  },
  "language_info": {
   "codemirror_mode": {
    "name": "ipython",
    "version": 3
   },
   "file_extension": ".py",
   "mimetype": "text/x-python",
   "name": "python",
   "nbconvert_exporter": "python",
   "pygments_lexer": "ipython3",
   "version": "3.13.5"
  }
 },
 "nbformat": 4,
 "nbformat_minor": 5
}
