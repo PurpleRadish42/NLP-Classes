{
 "cells": [
  {
   "cell_type": "code",
   "execution_count": 1,
   "id": "7fb9fd38",
   "metadata": {},
   "outputs": [
    {
     "name": "stdout",
     "output_type": "stream",
     "text": [
      "Collecting gensim\n",
      "  Downloading gensim-4.3.3.tar.gz (23.3 MB)\n",
      "     ---------------------------------------- 0.0/23.3 MB ? eta -:--:--\n",
      "     - -------------------------------------- 0.8/23.3 MB 20.8 MB/s eta 0:00:02\n",
      "     -- ------------------------------------- 1.6/23.3 MB 4.1 MB/s eta 0:00:06\n",
      "     ---- ----------------------------------- 2.4/23.3 MB 3.6 MB/s eta 0:00:06\n",
      "     ---- ----------------------------------- 2.9/23.3 MB 4.1 MB/s eta 0:00:05\n",
      "     ------ --------------------------------- 3.7/23.3 MB 4.1 MB/s eta 0:00:05\n",
      "     -------- ------------------------------- 4.7/23.3 MB 3.8 MB/s eta 0:00:05\n",
      "     -------- ------------------------------- 5.0/23.3 MB 3.6 MB/s eta 0:00:06\n",
      "     ---------- ----------------------------- 6.3/23.3 MB 3.8 MB/s eta 0:00:05\n",
      "     ---------------------- ----------------- 13.1/23.3 MB 7.1 MB/s eta 0:00:02\n",
      "     ----------------------- ---------------- 13.6/23.3 MB 6.6 MB/s eta 0:00:02\n",
      "     ------------------------ --------------- 14.4/23.3 MB 6.5 MB/s eta 0:00:02\n",
      "     --------------------------- ------------ 15.7/23.3 MB 6.3 MB/s eta 0:00:02\n",
      "     ----------------------------- ---------- 17.3/23.3 MB 6.3 MB/s eta 0:00:01\n",
      "     ------------------------------ --------- 17.8/23.3 MB 6.1 MB/s eta 0:00:01\n",
      "     --------------------------------- ------ 19.7/23.3 MB 6.3 MB/s eta 0:00:01\n",
      "     ------------------------------------ --- 21.0/23.3 MB 6.3 MB/s eta 0:00:01\n",
      "     ---------------------------------------  23.1/23.3 MB 6.5 MB/s eta 0:00:01\n",
      "     ---------------------------------------- 23.3/23.3 MB 6.4 MB/s  0:00:03\n",
      "  Installing build dependencies: started\n",
      "  Installing build dependencies: finished with status 'done'\n",
      "  Getting requirements to build wheel: started\n",
      "  Getting requirements to build wheel: finished with status 'done'\n",
      "  Preparing metadata (pyproject.toml): started\n",
      "  Preparing metadata (pyproject.toml): finished with status 'done'\n",
      "Collecting numpy<2.0,>=1.18.5 (from gensim)\n",
      "  Using cached numpy-1.26.4.tar.gz (15.8 MB)\n",
      "  Installing build dependencies: started\n",
      "  Installing build dependencies: finished with status 'done'\n",
      "  Getting requirements to build wheel: started\n",
      "  Getting requirements to build wheel: finished with status 'done'\n",
      "  Installing backend dependencies: started\n",
      "  Installing backend dependencies: finished with status 'done'\n",
      "  Preparing metadata (pyproject.toml): started\n",
      "  Preparing metadata (pyproject.toml): finished with status 'error'\n"
     ]
    },
    {
     "name": "stderr",
     "output_type": "stream",
     "text": [
      "  error: subprocess-exited-with-error\n",
      "  \n",
      "  × Preparing metadata (pyproject.toml) did not run successfully.\n",
      "  │ exit code: 1\n",
      "  ╰─> [21 lines of output]\n",
      "      + C:\\Users\\abhijit\\AppData\\Local\\Programs\\Python\\Python313\\python.exe C:\\Users\\abhijit\\AppData\\Local\\Temp\\pip-install-c885a951\\numpy_3e07fd44fe064e9e9285cc3097bb2ae2\\vendored-meson\\meson\\meson.py setup C:\\Users\\abhijit\\AppData\\Local\\Temp\\pip-install-c885a951\\numpy_3e07fd44fe064e9e9285cc3097bb2ae2 C:\\Users\\abhijit\\AppData\\Local\\Temp\\pip-install-c885a951\\numpy_3e07fd44fe064e9e9285cc3097bb2ae2\\.mesonpy-sinfd91u -Dbuildtype=release -Db_ndebug=if-release -Db_vscrt=md --native-file=C:\\Users\\abhijit\\AppData\\Local\\Temp\\pip-install-c885a951\\numpy_3e07fd44fe064e9e9285cc3097bb2ae2\\.mesonpy-sinfd91u\\meson-python-native-file.ini\n",
      "      The Meson build system\n",
      "      Version: 1.2.99\n",
      "      Source dir: C:\\Users\\abhijit\\AppData\\Local\\Temp\\pip-install-c885a951\\numpy_3e07fd44fe064e9e9285cc3097bb2ae2\n",
      "      Build dir: C:\\Users\\abhijit\\AppData\\Local\\Temp\\pip-install-c885a951\\numpy_3e07fd44fe064e9e9285cc3097bb2ae2\\.mesonpy-sinfd91u\n",
      "      Build type: native build\n",
      "      Project name: NumPy\n",
      "      Project version: 1.26.4\n",
      "      WARNING: Failed to activate VS environment: Could not parse vswhere.exe output\n",
      "      \n",
      "      ..\\meson.build:1:0: ERROR: Unknown compiler(s): [['icl'], ['cl'], ['cc'], ['gcc'], ['clang'], ['clang-cl'], ['pgcc']]\n",
      "      The following exception(s) were encountered:\n",
      "      Running `icl \"\"` gave \"[WinError 2] The system cannot find the file specified\"\n",
      "      Running `cl /?` gave \"[WinError 2] The system cannot find the file specified\"\n",
      "      Running `cc --version` gave \"[WinError 2] The system cannot find the file specified\"\n",
      "      Running `gcc --version` gave \"[WinError 2] The system cannot find the file specified\"\n",
      "      Running `clang --version` gave \"[WinError 2] The system cannot find the file specified\"\n",
      "      Running `clang-cl /?` gave \"[WinError 2] The system cannot find the file specified\"\n",
      "      Running `pgcc --version` gave \"[WinError 2] The system cannot find the file specified\"\n",
      "      \n",
      "      A full log can be found at C:\\Users\\abhijit\\AppData\\Local\\Temp\\pip-install-c885a951\\numpy_3e07fd44fe064e9e9285cc3097bb2ae2\\.mesonpy-sinfd91u\\meson-logs\\meson-log.txt\n",
      "      [end of output]\n",
      "  \n",
      "  note: This error originates from a subprocess, and is likely not a problem with pip.\n",
      "error: metadata-generation-failed\n",
      "\n",
      "× Encountered error while generating package metadata.\n",
      "╰─> See above for output.\n",
      "\n",
      "note: This is an issue with the package mentioned above, not pip.\n",
      "hint: See above for details.\n"
     ]
    }
   ],
   "source": [
    "!pip install gensim"
   ]
  }
 ],
 "metadata": {
  "kernelspec": {
   "display_name": "Python 3",
   "language": "python",
   "name": "python3"
  },
  "language_info": {
   "codemirror_mode": {
    "name": "ipython",
    "version": 3
   },
   "file_extension": ".py",
   "mimetype": "text/x-python",
   "name": "python",
   "nbconvert_exporter": "python",
   "pygments_lexer": "ipython3",
   "version": "3.13.6"
  }
 },
 "nbformat": 4,
 "nbformat_minor": 5
}
